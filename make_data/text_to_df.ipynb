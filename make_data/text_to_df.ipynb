{
 "cells": [
  {
   "cell_type": "code",
   "execution_count": 75,
   "id": "ffe961d5-e8c4-416c-90fe-eebe4b9dd178",
   "metadata": {},
   "outputs": [],
   "source": [
    "import os\n",
    "import cv2\n",
    "import numpy as np \n",
    "import pandas as pd\n",
    "import time \n",
    "from sklearn.model_selection import train_test_split \n",
    "from sklearn.preprocessing import LabelEncoder"
   ]
  },
  {
   "cell_type": "code",
   "execution_count": 76,
   "id": "b35612d6-94e9-4c92-8dec-2eb9fc808b51",
   "metadata": {},
   "outputs": [
    {
     "data": {
      "text/plain": [
       "'/data/transfg/2_55_experiment/make_data'"
      ]
     },
     "execution_count": 76,
     "metadata": {},
     "output_type": "execute_result"
    }
   ],
   "source": [
    "os.getcwd()"
   ]
  },
  {
   "cell_type": "code",
   "execution_count": 77,
   "id": "abc91fbc-dcf1-4f69-86d7-fb757d4f354a",
   "metadata": {},
   "outputs": [
    {
     "name": "stdout",
     "output_type": "stream",
     "text": [
      "already exist\n"
     ]
    }
   ],
   "source": [
    "try:\n",
    "    os.mkdir('/data/transfg/2_55_experiment/datasets/custom')\n",
    "except: \n",
    "    print('already exist')"
   ]
  },
  {
   "cell_type": "code",
   "execution_count": 78,
   "id": "4967ac73-febb-4424-b601-f36c1dac280e",
   "metadata": {},
   "outputs": [
    {
     "data": {
      "text/plain": [
       "['BMW#1시리즈_F20(2012)',\n",
       " 'BMW#1시리즈_F40(2020)',\n",
       " 'BMW#2시리즈_F44(2020)',\n",
       " 'BMW#2시리즈_F45(2015)',\n",
       " 'BMW#3시리즈_E90(2005)']"
      ]
     },
     "execution_count": 78,
     "metadata": {},
     "output_type": "execute_result"
    }
   ],
   "source": [
    "folder_list = sorted(os.listdir('/data/transfg/2_55_experiment/datasets/custom/')) \n",
    "folder_list[:5]"
   ]
  },
  {
   "cell_type": "code",
   "execution_count": 79,
   "id": "69f39bf9-d5c8-4bb6-8557-719ffa9bf52d",
   "metadata": {},
   "outputs": [],
   "source": [
    "import shutil\n",
    "path = '/data/transfg/2_55_experiment/datasets/make_data/'\n",
    "for i in folder_list: \n",
    "    try:\n",
    "        shutil.rmtree((os.path.join(path,i,'.ipynb_checkpoints')))\n",
    "        print('remove')\n",
    "    except: \n",
    "        #print('pass')\n",
    "        pass"
   ]
  },
  {
   "cell_type": "code",
   "execution_count": 80,
   "id": "0e505cd2-5439-45b3-b5d4-46c712c8501b",
   "metadata": {},
   "outputs": [
    {
     "data": {
      "text/plain": [
       "'/data/transfg/2_55_experiment/datasets/make_data/혼다#어코드_올 뉴(2008)/.ipynb_checkpoints'"
      ]
     },
     "execution_count": 80,
     "metadata": {},
     "output_type": "execute_result"
    }
   ],
   "source": [
    "os.path.join(path,i,'.ipynb_checkpoints')"
   ]
  },
  {
   "cell_type": "code",
   "execution_count": 81,
   "id": "efdbde9b-b8a6-4773-820a-037b92339ee8",
   "metadata": {},
   "outputs": [],
   "source": [
    "import shutil\n",
    "path = '/data/transfg/2_55_experiment/datasets/custom/'\n",
    "for i in folder_list: \n",
    "    try:\n",
    "        shutil.rmtree((os.path.join(path,i,'.ipynb_checkpoints')))\n",
    "        print('remove')\n",
    "    except: \n",
    "        #print('pass')\n",
    "        pass"
   ]
  },
  {
   "cell_type": "code",
   "execution_count": 82,
   "id": "28867c37-9223-4aad-a9f3-4440e807d295",
   "metadata": {},
   "outputs": [],
   "source": [
    "df = pd.DataFrame()"
   ]
  },
  {
   "cell_type": "code",
   "execution_count": 83,
   "id": "2bae117f-f826-47dc-a72c-11a3a4b09aea",
   "metadata": {},
   "outputs": [],
   "source": [
    "path = '/data/transfg/2_55_experiment/datasets/custom/'\n",
    "for i in folder_list: \n",
    "    df_ = pd.DataFrame({'path': os.listdir(os.path.join(path,i)),'folder':i,'label_':i.split('.')[0]}) \n",
    "    df = df.append(df_)"
   ]
  },
  {
   "cell_type": "code",
   "execution_count": 84,
   "id": "568b0c27-2134-4de5-89b9-bcda9301862d",
   "metadata": {},
   "outputs": [
    {
     "data": {
      "text/html": [
       "<div>\n",
       "<style scoped>\n",
       "    .dataframe tbody tr th:only-of-type {\n",
       "        vertical-align: middle;\n",
       "    }\n",
       "\n",
       "    .dataframe tbody tr th {\n",
       "        vertical-align: top;\n",
       "    }\n",
       "\n",
       "    .dataframe thead th {\n",
       "        text-align: right;\n",
       "    }\n",
       "</style>\n",
       "<table border=\"1\" class=\"dataframe\">\n",
       "  <thead>\n",
       "    <tr style=\"text-align: right;\">\n",
       "      <th></th>\n",
       "      <th>path</th>\n",
       "      <th>folder</th>\n",
       "      <th>label_</th>\n",
       "    </tr>\n",
       "  </thead>\n",
       "  <tbody>\n",
       "    <tr>\n",
       "      <th>0</th>\n",
       "      <td>C-220811_07_CR01_02_A0164.jpg</td>\n",
       "      <td>BMW#1시리즈_F20(2012)</td>\n",
       "      <td>BMW#1시리즈_F20(2012)</td>\n",
       "    </tr>\n",
       "    <tr>\n",
       "      <th>1216</th>\n",
       "      <td>C-220924_16_CR05_03_A1091.jpg</td>\n",
       "      <td>BMW#1시리즈_F20(2012)</td>\n",
       "      <td>BMW#1시리즈_F20(2012)</td>\n",
       "    </tr>\n",
       "    <tr>\n",
       "      <th>1215</th>\n",
       "      <td>C-221002_13_CR11_02_A0120.jpg</td>\n",
       "      <td>BMW#1시리즈_F20(2012)</td>\n",
       "      <td>BMW#1시리즈_F20(2012)</td>\n",
       "    </tr>\n",
       "    <tr>\n",
       "      <th>1214</th>\n",
       "      <td>C-220907_17_CR02_03_A0917.jpg</td>\n",
       "      <td>BMW#1시리즈_F20(2012)</td>\n",
       "      <td>BMW#1시리즈_F20(2012)</td>\n",
       "    </tr>\n",
       "    <tr>\n",
       "      <th>1213</th>\n",
       "      <td>C-220903_14_CR02_01_A0127.jpg</td>\n",
       "      <td>BMW#1시리즈_F20(2012)</td>\n",
       "      <td>BMW#1시리즈_F20(2012)</td>\n",
       "    </tr>\n",
       "    <tr>\n",
       "      <th>...</th>\n",
       "      <td>...</td>\n",
       "      <td>...</td>\n",
       "      <td>...</td>\n",
       "    </tr>\n",
       "    <tr>\n",
       "      <th>934</th>\n",
       "      <td>C-220715_17_SR10_01_A0343.jpg</td>\n",
       "      <td>혼다#어코드_올 뉴(2008)</td>\n",
       "      <td>혼다#어코드_올 뉴(2008)</td>\n",
       "    </tr>\n",
       "    <tr>\n",
       "      <th>935</th>\n",
       "      <td>C-221019_07_CR05_01_A0542.jpg</td>\n",
       "      <td>혼다#어코드_올 뉴(2008)</td>\n",
       "      <td>혼다#어코드_올 뉴(2008)</td>\n",
       "    </tr>\n",
       "    <tr>\n",
       "      <th>936</th>\n",
       "      <td>C-221110_16_AR08_04_A0500.jpg</td>\n",
       "      <td>혼다#어코드_올 뉴(2008)</td>\n",
       "      <td>혼다#어코드_올 뉴(2008)</td>\n",
       "    </tr>\n",
       "    <tr>\n",
       "      <th>928</th>\n",
       "      <td>C-221015_06_AR03_03_A0901.jpg</td>\n",
       "      <td>혼다#어코드_올 뉴(2008)</td>\n",
       "      <td>혼다#어코드_올 뉴(2008)</td>\n",
       "    </tr>\n",
       "    <tr>\n",
       "      <th>2798</th>\n",
       "      <td>C-220805_08_CR03_02_A0065.jpg</td>\n",
       "      <td>혼다#어코드_올 뉴(2008)</td>\n",
       "      <td>혼다#어코드_올 뉴(2008)</td>\n",
       "    </tr>\n",
       "  </tbody>\n",
       "</table>\n",
       "<p>1839803 rows × 3 columns</p>\n",
       "</div>"
      ],
      "text/plain": [
       "                               path              folder              label_\n",
       "0     C-220811_07_CR01_02_A0164.jpg  BMW#1시리즈_F20(2012)  BMW#1시리즈_F20(2012)\n",
       "1216  C-220924_16_CR05_03_A1091.jpg  BMW#1시리즈_F20(2012)  BMW#1시리즈_F20(2012)\n",
       "1215  C-221002_13_CR11_02_A0120.jpg  BMW#1시리즈_F20(2012)  BMW#1시리즈_F20(2012)\n",
       "1214  C-220907_17_CR02_03_A0917.jpg  BMW#1시리즈_F20(2012)  BMW#1시리즈_F20(2012)\n",
       "1213  C-220903_14_CR02_01_A0127.jpg  BMW#1시리즈_F20(2012)  BMW#1시리즈_F20(2012)\n",
       "...                             ...                 ...                 ...\n",
       "934   C-220715_17_SR10_01_A0343.jpg    혼다#어코드_올 뉴(2008)    혼다#어코드_올 뉴(2008)\n",
       "935   C-221019_07_CR05_01_A0542.jpg    혼다#어코드_올 뉴(2008)    혼다#어코드_올 뉴(2008)\n",
       "936   C-221110_16_AR08_04_A0500.jpg    혼다#어코드_올 뉴(2008)    혼다#어코드_올 뉴(2008)\n",
       "928   C-221015_06_AR03_03_A0901.jpg    혼다#어코드_올 뉴(2008)    혼다#어코드_올 뉴(2008)\n",
       "2798  C-220805_08_CR03_02_A0065.jpg    혼다#어코드_올 뉴(2008)    혼다#어코드_올 뉴(2008)\n",
       "\n",
       "[1839803 rows x 3 columns]"
      ]
     },
     "execution_count": 84,
     "metadata": {},
     "output_type": "execute_result"
    }
   ],
   "source": [
    "df = df.sort_values('folder') \n",
    "df"
   ]
  },
  {
   "cell_type": "code",
   "execution_count": 85,
   "id": "e00c4b87-f7c1-4ea9-9217-8f34bf2683cf",
   "metadata": {},
   "outputs": [],
   "source": [
    "# 클래스 개수가 3개 미만인 차량 모델은 학습에서 제외\n",
    "need_delete_label = df.label_.value_counts()[df.label_.value_counts()<10].keys()"
   ]
  },
  {
   "cell_type": "code",
   "execution_count": 86,
   "id": "d87d4419-2ada-4bdd-aae9-d74ebc581f69",
   "metadata": {},
   "outputs": [
    {
     "data": {
      "text/html": [
       "<div>\n",
       "<style scoped>\n",
       "    .dataframe tbody tr th:only-of-type {\n",
       "        vertical-align: middle;\n",
       "    }\n",
       "\n",
       "    .dataframe tbody tr th {\n",
       "        vertical-align: top;\n",
       "    }\n",
       "\n",
       "    .dataframe thead th {\n",
       "        text-align: right;\n",
       "    }\n",
       "</style>\n",
       "<table border=\"1\" class=\"dataframe\">\n",
       "  <thead>\n",
       "    <tr style=\"text-align: right;\">\n",
       "      <th></th>\n",
       "      <th>path</th>\n",
       "      <th>folder</th>\n",
       "      <th>label_</th>\n",
       "    </tr>\n",
       "  </thead>\n",
       "  <tbody>\n",
       "    <tr>\n",
       "      <th>5</th>\n",
       "      <td>C-220811_16_CR02_01_A0830.jpg</td>\n",
       "      <td>닛산#370Z_370Z(2013)</td>\n",
       "      <td>닛산#370Z_370Z(2013)</td>\n",
       "    </tr>\n",
       "    <tr>\n",
       "      <th>6</th>\n",
       "      <td>C-220922_11_CR11_03_A1543.jpg</td>\n",
       "      <td>닛산#370Z_370Z(2013)</td>\n",
       "      <td>닛산#370Z_370Z(2013)</td>\n",
       "    </tr>\n",
       "    <tr>\n",
       "      <th>8</th>\n",
       "      <td>C-220802_17_CR13_01_A0795.jpg</td>\n",
       "      <td>닛산#370Z_370Z(2013)</td>\n",
       "      <td>닛산#370Z_370Z(2013)</td>\n",
       "    </tr>\n",
       "    <tr>\n",
       "      <th>4</th>\n",
       "      <td>C-221008_12_CR06_03_A0613.jpg</td>\n",
       "      <td>닛산#370Z_370Z(2013)</td>\n",
       "      <td>닛산#370Z_370Z(2013)</td>\n",
       "    </tr>\n",
       "    <tr>\n",
       "      <th>7</th>\n",
       "      <td>C-221019_09_SR05_01_A0246.jpg</td>\n",
       "      <td>닛산#370Z_370Z(2013)</td>\n",
       "      <td>닛산#370Z_370Z(2013)</td>\n",
       "    </tr>\n",
       "    <tr>\n",
       "      <th>2</th>\n",
       "      <td>C-221003_16_CR12_01_A1617.jpg</td>\n",
       "      <td>닛산#370Z_370Z(2013)</td>\n",
       "      <td>닛산#370Z_370Z(2013)</td>\n",
       "    </tr>\n",
       "    <tr>\n",
       "      <th>0</th>\n",
       "      <td>C-221002_15_SR12_01_A0467.jpg</td>\n",
       "      <td>닛산#370Z_370Z(2013)</td>\n",
       "      <td>닛산#370Z_370Z(2013)</td>\n",
       "    </tr>\n",
       "    <tr>\n",
       "      <th>3</th>\n",
       "      <td>C-220805_16_CR03_02_A0286.jpg</td>\n",
       "      <td>닛산#370Z_370Z(2013)</td>\n",
       "      <td>닛산#370Z_370Z(2013)</td>\n",
       "    </tr>\n",
       "    <tr>\n",
       "      <th>1</th>\n",
       "      <td>C-220914_16_CR02_01_A0276.jpg</td>\n",
       "      <td>닛산#370Z_370Z(2013)</td>\n",
       "      <td>닛산#370Z_370Z(2013)</td>\n",
       "    </tr>\n",
       "    <tr>\n",
       "      <th>0</th>\n",
       "      <td>C-220712_18_CR14_03_A0683.jpg</td>\n",
       "      <td>현대#포터</td>\n",
       "      <td>현대#포터</td>\n",
       "    </tr>\n",
       "  </tbody>\n",
       "</table>\n",
       "</div>"
      ],
      "text/plain": [
       "                            path              folder              label_\n",
       "5  C-220811_16_CR02_01_A0830.jpg  닛산#370Z_370Z(2013)  닛산#370Z_370Z(2013)\n",
       "6  C-220922_11_CR11_03_A1543.jpg  닛산#370Z_370Z(2013)  닛산#370Z_370Z(2013)\n",
       "8  C-220802_17_CR13_01_A0795.jpg  닛산#370Z_370Z(2013)  닛산#370Z_370Z(2013)\n",
       "4  C-221008_12_CR06_03_A0613.jpg  닛산#370Z_370Z(2013)  닛산#370Z_370Z(2013)\n",
       "7  C-221019_09_SR05_01_A0246.jpg  닛산#370Z_370Z(2013)  닛산#370Z_370Z(2013)\n",
       "2  C-221003_16_CR12_01_A1617.jpg  닛산#370Z_370Z(2013)  닛산#370Z_370Z(2013)\n",
       "0  C-221002_15_SR12_01_A0467.jpg  닛산#370Z_370Z(2013)  닛산#370Z_370Z(2013)\n",
       "3  C-220805_16_CR03_02_A0286.jpg  닛산#370Z_370Z(2013)  닛산#370Z_370Z(2013)\n",
       "1  C-220914_16_CR02_01_A0276.jpg  닛산#370Z_370Z(2013)  닛산#370Z_370Z(2013)\n",
       "0  C-220712_18_CR14_03_A0683.jpg               현대#포터               현대#포터"
      ]
     },
     "execution_count": 86,
     "metadata": {},
     "output_type": "execute_result"
    }
   ],
   "source": [
    "df[df['label_'].isin(need_delete_label)]#.to_excel('../10개미만_제외차종목록.xlsx')"
   ]
  },
  {
   "cell_type": "code",
   "execution_count": 87,
   "id": "f6d59bdc-4778-4415-81f2-8818f8da02bf",
   "metadata": {},
   "outputs": [],
   "source": [
    "df = df[~df['label_'].isin(need_delete_label)]"
   ]
  },
  {
   "cell_type": "code",
   "execution_count": 88,
   "id": "70dd16e3-df01-4797-a0fe-131a2743d729",
   "metadata": {},
   "outputs": [
    {
     "data": {
      "text/plain": [
       "LabelEncoder()"
      ]
     },
     "execution_count": 88,
     "metadata": {},
     "output_type": "execute_result"
    }
   ],
   "source": [
    "label = LabelEncoder()\n",
    "label.fit(df['label_'])"
   ]
  },
  {
   "cell_type": "code",
   "execution_count": 89,
   "id": "57283061-5d50-422e-9ce4-9ea0b02b0322",
   "metadata": {},
   "outputs": [
    {
     "name": "stderr",
     "output_type": "stream",
     "text": [
      "/usr/local/lib/python3.6/dist-packages/ipykernel_launcher.py:1: SettingWithCopyWarning: \n",
      "A value is trying to be set on a copy of a slice from a DataFrame.\n",
      "Try using .loc[row_indexer,col_indexer] = value instead\n",
      "\n",
      "See the caveats in the documentation: https://pandas.pydata.org/pandas-docs/stable/user_guide/indexing.html#returning-a-view-versus-a-copy\n",
      "  \"\"\"Entry point for launching an IPython kernel.\n"
     ]
    }
   ],
   "source": [
    "df['label'] = label.transform(df['label_'])"
   ]
  },
  {
   "cell_type": "code",
   "execution_count": 90,
   "id": "a3c82f37-ef22-4ffb-8257-5926905f5f80",
   "metadata": {},
   "outputs": [
    {
     "name": "stderr",
     "output_type": "stream",
     "text": [
      "/usr/local/lib/python3.6/dist-packages/ipykernel_launcher.py:1: SettingWithCopyWarning: \n",
      "A value is trying to be set on a copy of a slice from a DataFrame.\n",
      "Try using .loc[row_indexer,col_indexer] = value instead\n",
      "\n",
      "See the caveats in the documentation: https://pandas.pydata.org/pandas-docs/stable/user_guide/indexing.html#returning-a-view-versus-a-copy\n",
      "  \"\"\"Entry point for launching an IPython kernel.\n"
     ]
    }
   ],
   "source": [
    "df['path'] = df['folder']+'/'+df['path']"
   ]
  },
  {
   "cell_type": "code",
   "execution_count": 91,
   "id": "cf39b215-ffd8-4469-9935-385826d773ab",
   "metadata": {},
   "outputs": [
    {
     "name": "stderr",
     "output_type": "stream",
     "text": [
      "/usr/local/lib/python3.6/dist-packages/ipykernel_launcher.py:1: SettingWithCopyWarning: \n",
      "A value is trying to be set on a copy of a slice from a DataFrame.\n",
      "Try using .loc[row_indexer,col_indexer] = value instead\n",
      "\n",
      "See the caveats in the documentation: https://pandas.pydata.org/pandas-docs/stable/user_guide/indexing.html#returning-a-view-versus-a-copy\n",
      "  \"\"\"Entry point for launching an IPython kernel.\n"
     ]
    }
   ],
   "source": [
    "df['path'] = df['path'].apply(lambda x: os.path.join(path,x))"
   ]
  },
  {
   "cell_type": "code",
   "execution_count": 92,
   "id": "450a1454-12e2-4b04-855e-10617f8db41c",
   "metadata": {},
   "outputs": [],
   "source": [
    "df = df.reset_index(drop=True)"
   ]
  },
  {
   "cell_type": "code",
   "execution_count": 93,
   "id": "0fccaba9-a8a6-4bc2-b35e-66659d951b2f",
   "metadata": {},
   "outputs": [],
   "source": [
    "df = df.drop('folder',axis=1)"
   ]
  },
  {
   "cell_type": "markdown",
   "id": "8d8457ea-e9d8-4f9c-a05b-02f7cd4858f6",
   "metadata": {},
   "source": [
    "df['size'] = df['path'].apply(lambda x: sum(cv2.imread(x).shape))"
   ]
  },
  {
   "cell_type": "markdown",
   "id": "ad302129-6b77-462f-865d-263cdd5adb8f",
   "metadata": {},
   "source": [
    "df.sort_values('size')[:10]['path'].values"
   ]
  },
  {
   "cell_type": "code",
   "execution_count": 94,
   "id": "ce756620-81f9-44bd-b3ee-d6433c49987f",
   "metadata": {},
   "outputs": [
    {
     "data": {
      "text/plain": [
       "'/data/transfg/2_55_experiment/datasets/custom/BMW#1시리즈_F20(2012)/C-220811_07_CR01_02_A0164.jpg'"
      ]
     },
     "execution_count": 94,
     "metadata": {},
     "output_type": "execute_result"
    }
   ],
   "source": [
    "df['path'][0]"
   ]
  },
  {
   "cell_type": "code",
   "execution_count": 95,
   "id": "200589a0-a537-4778-a37d-5d25aaada208",
   "metadata": {},
   "outputs": [
    {
     "data": {
      "text/html": [
       "<div>\n",
       "<style scoped>\n",
       "    .dataframe tbody tr th:only-of-type {\n",
       "        vertical-align: middle;\n",
       "    }\n",
       "\n",
       "    .dataframe tbody tr th {\n",
       "        vertical-align: top;\n",
       "    }\n",
       "\n",
       "    .dataframe thead th {\n",
       "        text-align: right;\n",
       "    }\n",
       "</style>\n",
       "<table border=\"1\" class=\"dataframe\">\n",
       "  <thead>\n",
       "    <tr style=\"text-align: right;\">\n",
       "      <th></th>\n",
       "      <th>path</th>\n",
       "      <th>label_</th>\n",
       "      <th>label</th>\n",
       "    </tr>\n",
       "  </thead>\n",
       "  <tbody>\n",
       "    <tr>\n",
       "      <th>887364</th>\n",
       "      <td>/data/transfg/2_55_experiment/datasets/custom/...</td>\n",
       "      <td>쉐보레(GM대우)#스파크_스파크(2011)</td>\n",
       "      <td>202</td>\n",
       "    </tr>\n",
       "    <tr>\n",
       "      <th>369159</th>\n",
       "      <td>/data/transfg/2_55_experiment/datasets/custom/...</td>\n",
       "      <td>기아#셀토스_셀토스(2019)</td>\n",
       "      <td>65</td>\n",
       "    </tr>\n",
       "    <tr>\n",
       "      <th>1051139</th>\n",
       "      <td>/data/transfg/2_55_experiment/datasets/custom/...</td>\n",
       "      <td>폭스바겐#티구안_2세대(2018)</td>\n",
       "      <td>323</td>\n",
       "    </tr>\n",
       "    <tr>\n",
       "      <th>6998</th>\n",
       "      <td>/data/transfg/2_55_experiment/datasets/custom/...</td>\n",
       "      <td>BMW#3시리즈_F30(2012)</td>\n",
       "      <td>5</td>\n",
       "    </tr>\n",
       "    <tr>\n",
       "      <th>451072</th>\n",
       "      <td>/data/transfg/2_55_experiment/datasets/custom/...</td>\n",
       "      <td>기아#쏘렌토_4세대(2020)</td>\n",
       "      <td>72</td>\n",
       "    </tr>\n",
       "    <tr>\n",
       "      <th>...</th>\n",
       "      <td>...</td>\n",
       "      <td>...</td>\n",
       "      <td>...</td>\n",
       "    </tr>\n",
       "    <tr>\n",
       "      <th>315652</th>\n",
       "      <td>/data/transfg/2_55_experiment/datasets/custom/...</td>\n",
       "      <td>기아#봉고_봉고 Ⅲ(Unknown)</td>\n",
       "      <td>63</td>\n",
       "    </tr>\n",
       "    <tr>\n",
       "      <th>863341</th>\n",
       "      <td>/data/transfg/2_55_experiment/datasets/custom/...</td>\n",
       "      <td>쉐보레(GM대우)#스파크_더 넥스트(2015)</td>\n",
       "      <td>200</td>\n",
       "    </tr>\n",
       "    <tr>\n",
       "      <th>59261</th>\n",
       "      <td>/data/transfg/2_55_experiment/datasets/custom/...</td>\n",
       "      <td>기아#K3_K3(2012)</td>\n",
       "      <td>30</td>\n",
       "    </tr>\n",
       "    <tr>\n",
       "      <th>1642836</th>\n",
       "      <td>/data/transfg/2_55_experiment/datasets/custom/...</td>\n",
       "      <td>현대#제네시스_G80(2016)</td>\n",
       "      <td>396</td>\n",
       "    </tr>\n",
       "    <tr>\n",
       "      <th>1579510</th>\n",
       "      <td>/data/transfg/2_55_experiment/datasets/custom/...</td>\n",
       "      <td>현대#아이오닉_5(2021)</td>\n",
       "      <td>384</td>\n",
       "    </tr>\n",
       "  </tbody>\n",
       "</table>\n",
       "<p>1839793 rows × 3 columns</p>\n",
       "</div>"
      ],
      "text/plain": [
       "                                                      path  \\\n",
       "887364   /data/transfg/2_55_experiment/datasets/custom/...   \n",
       "369159   /data/transfg/2_55_experiment/datasets/custom/...   \n",
       "1051139  /data/transfg/2_55_experiment/datasets/custom/...   \n",
       "6998     /data/transfg/2_55_experiment/datasets/custom/...   \n",
       "451072   /data/transfg/2_55_experiment/datasets/custom/...   \n",
       "...                                                    ...   \n",
       "315652   /data/transfg/2_55_experiment/datasets/custom/...   \n",
       "863341   /data/transfg/2_55_experiment/datasets/custom/...   \n",
       "59261    /data/transfg/2_55_experiment/datasets/custom/...   \n",
       "1642836  /data/transfg/2_55_experiment/datasets/custom/...   \n",
       "1579510  /data/transfg/2_55_experiment/datasets/custom/...   \n",
       "\n",
       "                            label_  label  \n",
       "887364     쉐보레(GM대우)#스파크_스파크(2011)    202  \n",
       "369159            기아#셀토스_셀토스(2019)     65  \n",
       "1051139         폭스바겐#티구안_2세대(2018)    323  \n",
       "6998            BMW#3시리즈_F30(2012)      5  \n",
       "451072            기아#쏘렌토_4세대(2020)     72  \n",
       "...                            ...    ...  \n",
       "315652         기아#봉고_봉고 Ⅲ(Unknown)     63  \n",
       "863341   쉐보레(GM대우)#스파크_더 넥스트(2015)    200  \n",
       "59261               기아#K3_K3(2012)     30  \n",
       "1642836          현대#제네시스_G80(2016)    396  \n",
       "1579510            현대#아이오닉_5(2021)    384  \n",
       "\n",
       "[1839793 rows x 3 columns]"
      ]
     },
     "execution_count": 95,
     "metadata": {},
     "output_type": "execute_result"
    }
   ],
   "source": [
    "df = df.sample(df.shape[0])\n",
    "df"
   ]
  },
  {
   "cell_type": "code",
   "execution_count": 96,
   "id": "8438fb5d-f52e-40ae-834b-8b831d0bcccb",
   "metadata": {},
   "outputs": [],
   "source": [
    "df.drop_duplicates('label').sort_values('label').reset_index(drop=True).drop('path',axis=1).to_csv('../label_encoding.csv')"
   ]
  },
  {
   "cell_type": "code",
   "execution_count": 97,
   "id": "646d1054-5146-4da5-be42-4999f32deaa9",
   "metadata": {
    "tags": []
   },
   "outputs": [],
   "source": [
    "# 1클래스당 최소 2개이상의 샘플이 있어야 사용 가능함\n",
    "train_x,test_x_,train_y,test_y_ = train_test_split(df,df['label'],stratify=df['label'],test_size=0.2,random_state=22)\n",
    "val_x,test_x,val_y,test_y = train_test_split(test_x_,test_y_,stratify=test_y_,test_size=0.5,random_state=22)"
   ]
  },
  {
   "cell_type": "markdown",
   "id": "ed77f329-9571-40d6-aa2c-41f649148ffb",
   "metadata": {},
   "source": [
    "train_x,test_x_,train_y,test_y_ = train_test_split(df,df['label'],test_size=0.2)\n",
    "val_x,test_x,val_y,test_y = train_test_split(test_x_,test_y_,test_size=0.5)"
   ]
  },
  {
   "cell_type": "code",
   "execution_count": 98,
   "id": "b200817f-3805-4e31-8f88-2f961e3ea4a6",
   "metadata": {},
   "outputs": [
    {
     "name": "stdout",
     "output_type": "stream",
     "text": [
      "(1471834, 3)\n",
      "(183979, 3)\n",
      "(183980, 3)\n"
     ]
    }
   ],
   "source": [
    "print(train_x.shape)\n",
    "print(val_x.shape)\n",
    "print(test_x.shape)"
   ]
  },
  {
   "cell_type": "code",
   "execution_count": 99,
   "id": "d796b931-6621-451c-b042-194d691b78ff",
   "metadata": {},
   "outputs": [],
   "source": [
    "train_x.to_csv('/data/transfg/2_55_experiment/train_x.csv')\n",
    "val_x.to_csv('/data/transfg/2_55_experiment/val_x.csv')\n",
    "test_x.to_csv('/data/transfg/2_55_experiment/test_x.csv')"
   ]
  },
  {
   "cell_type": "markdown",
   "id": "cbe59b06-0102-4083-8ce7-f4650ca7cbdc",
   "metadata": {},
   "source": [
    "df['size'] = df['path'].apply(lambda x: os.path.getsize(x))"
   ]
  },
  {
   "cell_type": "code",
   "execution_count": null,
   "id": "c694e094-9e4a-48e3-98bd-2f50214b1770",
   "metadata": {},
   "outputs": [],
   "source": []
  }
 ],
 "metadata": {
  "kernelspec": {
   "display_name": "Python 3",
   "language": "python",
   "name": "python3"
  },
  "language_info": {
   "codemirror_mode": {
    "name": "ipython",
    "version": 3
   },
   "file_extension": ".py",
   "mimetype": "text/x-python",
   "name": "python",
   "nbconvert_exporter": "python",
   "pygments_lexer": "ipython3",
   "version": "3.6.9"
  },
  "vscode": {
   "interpreter": {
    "hash": "31f2aee4e71d21fbe5cf8b01ff0e069b9275f58929596ceb00d14d90e3e16cd6"
   }
  }
 },
 "nbformat": 4,
 "nbformat_minor": 5
}
