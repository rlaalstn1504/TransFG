{
 "cells": [
  {
   "cell_type": "code",
   "execution_count": 1,
   "id": "0efef46f",
   "metadata": {},
   "outputs": [],
   "source": [
    "import pandas as pd\n",
    "import os \n",
    "import shutil\n",
    "import json\n",
    "import time \n",
    "from datetime import timedelta\n",
    "from tqdm import tqdm\n",
    "import matplotlib.pyplot as plt\n",
    "from PIL import Image"
   ]
  },
  {
   "cell_type": "code",
   "execution_count": null,
   "id": "1475aab7",
   "metadata": {},
   "outputs": [
    {
     "name": "stderr",
     "output_type": "stream",
     "text": [
      " 24%|██▍       | 16157/66534 [00:45<04:08, 202.97it/s]"
     ]
    }
   ],
   "source": [
    "start = time.time()\n",
    "count = 0\n",
    "df_all = pd.DataFrame() \n",
    "data_root = '/data/mskim/2_55_experiment/make_data/10월4주차'\n",
    "\n",
    "json_file_list = os.listdir(f'{data_root}/라벨링 데이터')\n",
    "for l in tqdm(json_file_list):\n",
    "    try:\n",
    "        path = os.path.join(f'{data_root}/라벨링 데이터/{l}')\n",
    "        with open(path,'r', encoding=\"UTF-8\") as dc:\n",
    "            data = json.load(dc) \n",
    "            df = pd.DataFrame(data['Learning Data Info']['annotations']) \n",
    "            df['path'] = data['Learning Data Info']['path']  \n",
    "            df['json_data_id'] = data['Learning Data Info']['json_data_id']\n",
    "            df_all = df_all.append(df)\n",
    "            count +=1 \n",
    "    except:\n",
    "        print(os.path.join(f'{data_root}/라벨링 데이터/{l}'))\n",
    "end = time.time() \n",
    "print(\"Time elapsed: \", timedelta(seconds=end-start))\n",
    "count"
   ]
  },
  {
   "cell_type": "code",
   "execution_count": null,
   "id": "3257793e-3b65-4619-ab10-cc7023970e79",
   "metadata": {},
   "outputs": [],
   "source": [
    "df_all"
   ]
  },
  {
   "cell_type": "code",
   "execution_count": null,
   "id": "653e6c60",
   "metadata": {},
   "outputs": [],
   "source": [
    "df_all = df_all.reset_index(drop=True)"
   ]
  },
  {
   "cell_type": "code",
   "execution_count": null,
   "id": "b207694c-f1aa-4c40-9838-a3cd8d351544",
   "metadata": {},
   "outputs": [],
   "source": [
    "df_all['model_id'].value_counts()"
   ]
  },
  {
   "cell_type": "code",
   "execution_count": null,
   "id": "7187c9da-1c92-48e9-8267-03ec92721af9",
   "metadata": {
    "tags": []
   },
   "outputs": [],
   "source": [
    "# 언노운 제외\n",
    "#unknown = df_all[df_all['model_id'] == 'Unknown']\n",
    "df_all = df_all[df_all['model_id'] != 'Unknown']"
   ]
  },
  {
   "cell_type": "code",
   "execution_count": null,
   "id": "eaf4499a-1170-4fda-9ead-324555813245",
   "metadata": {},
   "outputs": [],
   "source": [
    "#df_all = df_all.append(unknown.sample(8000))"
   ]
  },
  {
   "cell_type": "code",
   "execution_count": null,
   "id": "b5a50549",
   "metadata": {},
   "outputs": [],
   "source": [
    "df_all['json_data_id'] = df_all['json_data_id']+'.jpg'"
   ]
  },
  {
   "cell_type": "code",
   "execution_count": null,
   "id": "52846525",
   "metadata": {},
   "outputs": [],
   "source": [
    "def edit_coord(x):\n",
    "    x[2] = x[0]+x[2] \n",
    "    x[3] = x[1]+x[3]\n",
    "    return x"
   ]
  },
  {
   "cell_type": "code",
   "execution_count": null,
   "id": "47bafa48",
   "metadata": {},
   "outputs": [],
   "source": [
    "df_all['coord'] = df_all['coord'].apply(lambda x: edit_coord(x))"
   ]
  },
  {
   "cell_type": "code",
   "execution_count": null,
   "id": "7024e34e",
   "metadata": {},
   "outputs": [],
   "source": [
    "#for i in range(20):\n",
    "image1 = Image.open(os.path.join(data_root,'원천 데이터',df_all.iloc[9]['json_data_id']))\n",
    "image2 = image1.crop(df_all.iloc[9]['coord'])\n",
    "image2\n",
    "#    display(image2)"
   ]
  },
  {
   "cell_type": "code",
   "execution_count": null,
   "id": "56274901",
   "metadata": {},
   "outputs": [],
   "source": [
    "unique_model_list = df_all.drop_duplicates(['brand_id','model_id'])[['brand_id','model_id']]\n",
    "unique_model_list.head()"
   ]
  },
  {
   "cell_type": "code",
   "execution_count": null,
   "id": "6a21af38",
   "metadata": {},
   "outputs": [],
   "source": [
    "ouput_path = '/data/mskim/2_55_experiment/datasets/custom'"
   ]
  },
  {
   "cell_type": "code",
   "execution_count": null,
   "id": "c85a3f7a",
   "metadata": {},
   "outputs": [],
   "source": [
    "import os\n",
    "\n",
    "def makedirs(path):\n",
    "    try:\n",
    "        if not os.path.exists(path):\n",
    "            os.makedirs(path)\n",
    "    except OSError:\n",
    "        print(\"Error: Failed to create the directory.\")"
   ]
  },
  {
   "cell_type": "code",
   "execution_count": null,
   "id": "0937bc23",
   "metadata": {},
   "outputs": [],
   "source": [
    "start = time.time()\n",
    "count = 0\n",
    "for _,i in tqdm(df_all.iterrows()):\n",
    "    try:\n",
    "        count +=1\n",
    "        image1 = Image.open(os.path.join(f'{data_root}/원천 데이터',i['json_data_id']))\n",
    "        image2 = image1.crop(i['coord'])\n",
    "        folder_path = os.path.join(ouput_path,i['brand_id']+'#'+i['model_id'])\n",
    "        makedirs(os.path.join(ouput_path,folder_path))\n",
    "        image2.save(os.path.join(ouput_path,folder_path,i['json_data_id'].split('/')[-1]),'jpeg')\n",
    "    except:\n",
    "        print(os.path.join(f'{data_root}/원천 데이터',i['json_data_id']))\n",
    "\n",
    "end = time.time() \n",
    "print(\"Time elapsed: \", timedelta(seconds=end-start))"
   ]
  }
 ],
 "metadata": {
  "kernelspec": {
   "display_name": "Python 3",
   "language": "python",
   "name": "python3"
  },
  "language_info": {
   "codemirror_mode": {
    "name": "ipython",
    "version": 3
   },
   "file_extension": ".py",
   "mimetype": "text/x-python",
   "name": "python",
   "nbconvert_exporter": "python",
   "pygments_lexer": "ipython3",
   "version": "3.6.9"
  }
 },
 "nbformat": 4,
 "nbformat_minor": 5
}
